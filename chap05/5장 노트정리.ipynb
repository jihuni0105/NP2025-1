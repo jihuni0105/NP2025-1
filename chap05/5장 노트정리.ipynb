{
 "cells": [
  {
   "cell_type": "markdown",
   "id": "99c411c2",
   "metadata": {},
   "source": [
    "### 5장 함수 노트정리"
   ]
  },
  {
   "cell_type": "markdown",
   "id": "37ca4959",
   "metadata": {},
   "source": [
    "### - 함수"
   ]
  },
  {
   "cell_type": "markdown",
   "id": "3cc7e74d",
   "metadata": {},
   "source": [
    "#### 함수의 정의와 호출\n",
    "함수를 정의할 때는 def 키워드를 사용합니다."
   ]
  },
  {
   "cell_type": "code",
   "execution_count": null,
   "id": "631585e1",
   "metadata": {},
   "outputs": [],
   "source": [
    "# 함수의 기본 구조\n",
    "def 함수이름(매개변수):\n",
    "    문장1\n",
    "    문장2\n",
    "    ...\n",
    "    return 값 # 함수 종료 시 반환할 값 (선택 사항)"
   ]
  },
  {
   "cell_type": "markdown",
   "id": "9a1046e6",
   "metadata": {},
   "source": [
    "#### 함수의 반환\n",
    " • 반환값이 없는 함수\n",
    " 반환값이 없는 함수는 return문을 사용하지 않거나, 단순히 return만을 사용하여 함수를 종료시킬 수 있습니다. "
   ]
  },
  {
   "cell_type": "code",
   "execution_count": 1,
   "id": "a0d1793e",
   "metadata": {},
   "outputs": [
    {
     "name": "stdout",
     "output_type": "stream",
     "text": [
      "Welcome to Python\n"
     ]
    }
   ],
   "source": [
    "def prtStr(string):\n",
    "    print(\"%s\" % string)\n",
    "    return # 반환 값이 없이 함수가 종료\n",
    "\n",
    "text = \"Welcome to Python\"\n",
    "prtStr(text) # 매개변수 'text'를 전달하여 함수 호출"
   ]
  },
  {
   "cell_type": "markdown",
   "id": "2e828d03",
   "metadata": {},
   "source": [
    "• 값을 반환하는 함수\n",
    "\n",
    " return 뒤에 반환할 값을 지정하여 함수 호출 결과로 값을 돌려받을 수 있습니다.\n"
   ]
  },
  {
   "cell_type": "code",
   "execution_count": 2,
   "id": "9bd95e9f",
   "metadata": {},
   "outputs": [
    {
     "name": "stdout",
     "output_type": "stream",
     "text": [
      "한 변의 길이가 5인 정사각형의 넓이는 25\n",
      "한 변의 길이가 7인 정사각형의 넓이는 49\n"
     ]
    }
   ],
   "source": [
    "def squareArea(s):\n",
    "    area = s * s\n",
    "    return area # area 값이 반환\n",
    "\n",
    "a = squareArea(5) # 5를 인자(argument)로 전달, 반환 값이 변수 a에 저장\n",
    "b = squareArea(7) # 7을 인자로 전달\n",
    "\n",
    "print(\"한 변의 길이가 %d인 정사각형의 넓이는 %d\" % (5, a))\n",
    "print(\"한 변의 길이가 %d인 정사각형의 넓이는 %d\" % (7, b))"
   ]
  },
  {
   "cell_type": "markdown",
   "id": "0ff266b0",
   "metadata": {},
   "source": [
    "#### 함수 매개변수의 전달\n",
    "\n",
    "• 기본값(default) 매개변수\n",
    "\n",
    "매개변수에 기본값을 지정하여, 인자를 전달하지 않을 경우 미리 설정된 값이 사용되도록 할 수 있다."
   ]
  },
  {
   "cell_type": "code",
   "execution_count": 3,
   "id": "73ec3a6d",
   "metadata": {},
   "outputs": [
    {
     "name": "stdout",
     "output_type": "stream",
     "text": [
      "default\n",
      "Hi! Hi! Hi! Hi! Hi! \n"
     ]
    }
   ],
   "source": [
    "def prtMesg(message, count=1): # count의 기본값이 1로 지정\n",
    "    print(message * count)\n",
    "\n",
    "prtMesg('default')      # message='default', count는 기본값(1) 사용\n",
    "prtMesg('Hi! ', 5)      # message='Hi!', count=5"
   ]
  },
  {
   "cell_type": "markdown",
   "id": "474f4eec",
   "metadata": {},
   "source": [
    "• 가변 매개변수\n",
    "\n",
    "  매개변수의 개수가 정해지지 않았을 때 사용합니다.\n",
    "  \n",
    " 매개변수가 *arg로 표시되면 튜플로 처리\n",
    " "
   ]
  },
  {
   "cell_type": "code",
   "execution_count": 4,
   "id": "e79d7435",
   "metadata": {},
   "outputs": [
    {
     "name": "stdout",
     "output_type": "stream",
     "text": [
      "6\n",
      "15\n"
     ]
    }
   ],
   "source": [
    "def total(*numbers): # *numbers는 튜플로 처리\n",
    "    sum = 0\n",
    "    for n in numbers:\n",
    "        sum += n\n",
    "    return sum\n",
    "\n",
    "print(total(1, 2, 3)) # 3개의 인자 전달\n",
    "print(total(1, 2, 3, 4, 5)) # 5개의 인자 전달"
   ]
  },
  {
   "cell_type": "markdown",
   "id": "fb1728ce",
   "metadata": {},
   "source": [
    "매개변수가 *keywords로 표시되면 딕셔너리로 처리"
   ]
  },
  {
   "cell_type": "code",
   "execution_count": 5,
   "id": "80b0ecdd",
   "metadata": {},
   "outputs": [
    {
     "name": "stdout",
     "output_type": "stream",
     "text": [
      "Kennedy: 35-th president\n",
      "Obama: 44-th president\n",
      "Trump: 45-th president\n"
     ]
    }
   ],
   "source": [
    "def dicPresident(**keywords): # **keywords는 딕셔너리로 처리\n",
    "    for key in keywords.keys():\n",
    "        print(f\"{key}: {keywords[key]}-th president\")\n",
    "\n",
    "dicPresident(Kennedy=35, Obama=44, Trump=45)"
   ]
  },
  {
   "cell_type": "markdown",
   "id": "bcda2e22",
   "metadata": {},
   "source": [
    "• 키워드 매개변수\n",
    "\n",
    "인자의 위치가 아닌 키워드 이름을 사용하여 값을 전달할 수 있습니다."
   ]
  },
  {
   "cell_type": "code",
   "execution_count": 6,
   "id": "75e68a52",
   "metadata": {},
   "outputs": [
    {
     "name": "stdout",
     "output_type": "stream",
     "text": [
      "a= 4 b= 5 c= 3\n",
      "12\n",
      "a= 5 b= 2 c= 7\n",
      "14\n"
     ]
    }
   ],
   "source": [
    "def func(a, b=2, c=3):\n",
    "    print('a=', a, 'b=', b, 'c=', c)\n",
    "    return a + b + c\n",
    "\n",
    "print(func(4, 5)) # 위치에 의해 a=4, b=5로 전달\n",
    "print(func(5, c=7)) # 키워드를 이용해 c=7로 전달, b는 기본값(2) 사용"
   ]
  }
 ],
 "metadata": {
  "kernelspec": {
   "display_name": "Python 3",
   "language": "python",
   "name": "python3"
  },
  "language_info": {
   "codemirror_mode": {
    "name": "ipython",
    "version": 3
   },
   "file_extension": ".py",
   "mimetype": "text/x-python",
   "name": "python",
   "nbconvert_exporter": "python",
   "pygments_lexer": "ipython3",
   "version": "3.13.7"
  }
 },
 "nbformat": 4,
 "nbformat_minor": 5
}
