{
 "cells": [
  {
   "cell_type": "markdown",
   "id": "e2bd3685",
   "metadata": {},
   "source": [
    "### 연습문제 6-10"
   ]
  },
  {
   "cell_type": "markdown",
   "id": "1db1deec",
   "metadata": {},
   "source": [
    "이름:박지훈\n",
    "\n",
    "학번:202010653\n",
    "\n",
    "학과:영어교육과\n",
    "\n",
    "날짜:2025/09/24"
   ]
  },
  {
   "cell_type": "code",
   "execution_count": 8,
   "id": "6e97ce9a",
   "metadata": {},
   "outputs": [
    {
     "name": "stdout",
     "output_type": "stream",
     "text": [
      "춘식이이 멍멍하고 울어요\n",
      "야옹이이 야옹하고 울어요\n",
      "현재 동물 수: 2\n",
      "바둑이이 멍멍하고 울어요\n",
      "현재 동물 수: 3\n",
      "토리이 멍멍하고 울어요\n",
      "나비이 야옹하고 울어요\n",
      "뽀삐이 멍멍하고 울어요\n",
      "고양이이 야옹하고 울어요\n"
     ]
    }
   ],
   "source": [
    "from abc import ABC, abstractmethod\n",
    "\n",
    "class Animal(ABC):\n",
    "    animal_count = 0  # 클래스 변수러 동물 객체 수를 저장\n",
    "    \n",
    "    def __init__(self):\n",
    "        Animal.animal_count += 1  # 객체가 생성될 때마다 카운트 증가\n",
    "        \n",
    "    @abstractmethod\n",
    "    def sound(self):\n",
    "        pass\n",
    "    \n",
    "    def get_animal_count(self): \n",
    "        return Animal.animal_count #현재 동물 객체 수 반환\n",
    "    \n",
    "class Dog(Animal):\n",
    "    def __init__(self, name):\n",
    "        super().__init__()  # 부모 클래스의 생성자 호출\n",
    "        self.__name = name    \n",
    "        \n",
    "    def sound(self): # 추상 메소드 구현\n",
    "        return f\"{self.__name}이 멍멍하고 울어요\"\n",
    "    \n",
    "class Cat(Animal):\n",
    "    def __init__(self, name):\n",
    "        super().__init__()  # 부모 클래스의 생성자 호출\n",
    "        self.__name = name    \n",
    "        \n",
    "    def sound(self): # 추상 메소드 구현\n",
    "        return f\"{self.__name}이 야옹하고 울어요\"\n",
    "    \n",
    "if __name__ == \"__main__\":\n",
    "    mydog : Dog = Dog(\"춘식이\")\n",
    "    mycat : Cat = Cat(\"야옹이\")\n",
    "    print(mydog.sound())\n",
    "    print(mycat.sound())\n",
    "    print(\"현재 동물 수:\", Animal.get_animal_count(_))\n",
    "    \n",
    "    # animal : Animal = Animal() # 추상 클래스는 객체 생성 불가\n",
    "    \n",
    "    animal : Animal = Dog(\"바둑이\")\n",
    "    print(animal.sound())\n",
    "    print(\"현재 동물 수:\", Animal.get_animal_count(_))\n",
    "    \n",
    "    animallist = [Dog(\"토리\"), Cat(\"나비\"), Dog(\"뽀삐\"), Cat(\"고양이\")]\n",
    "    for animal in animallist:\n",
    "        print(animal.sound())\n",
    "        \n",
    "    def make_sound(animals: list[Animal]):\n",
    "        for animal in animals:\n",
    "            print(animal.sound())"
   ]
  }
 ],
 "metadata": {
  "kernelspec": {
   "display_name": "Python 3",
   "language": "python",
   "name": "python3"
  },
  "language_info": {
   "codemirror_mode": {
    "name": "ipython",
    "version": 3
   },
   "file_extension": ".py",
   "mimetype": "text/x-python",
   "name": "python",
   "nbconvert_exporter": "python",
   "pygments_lexer": "ipython3",
   "version": "3.13.7"
  }
 },
 "nbformat": 4,
 "nbformat_minor": 5
}
