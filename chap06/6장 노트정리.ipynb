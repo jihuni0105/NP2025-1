{
 "cells": [
  {
   "cell_type": "markdown",
   "id": "25d94492",
   "metadata": {},
   "source": [
    "## 6장 노트정리"
   ]
  },
  {
   "cell_type": "markdown",
   "id": "0267a76e",
   "metadata": {},
   "source": [
    "#### 1. 객체지향 프로그래밍\n",
    "\n",
    "객체지향 프로그래밍이란? 객체의 속성(변수)과 동작(함수)을 나타내는 클래스로 정의하고, 이로부터 객체를 생성하여 프로그램을 작성하는 방식입니다.\n",
    "\n",
    "클래스란? 객체를 만들기 위한 틀입니다. 변수와 메소드로 구성된 클래스 몸체를 가집니다.\n",
    "\n",
    "객체(인스턴스)란? 클래스로부터 생성된 실체입니다. 클래스의 속성과 메소드에 접근할 수 있으며, 일반 변수처럼 함수 인자로 사용되거나, 함수에서 반환되거나, 튜플이나 딕셔너리의 요소로 사용될 수 있습니다.\n",
    "\n",
    "메소드란? 클래스의 동작을 나타내는 함수입니다."
   ]
  },
  {
   "cell_type": "markdown",
   "id": "4190835c",
   "metadata": {},
   "source": [
    "#### 2. 클래스 정의 및 객체 생성\n",
    "\n",
    "클래스 정의\n",
    "\n",
    "class 키워드를 사용하여 클래스를 정의합니다."
   ]
  },
  {
   "cell_type": "code",
   "execution_count": null,
   "id": "20f9d477",
   "metadata": {},
   "outputs": [],
   "source": [
    "class 클래스이름(부모 클래스): #부모클래스는 생략 가능\n",
    "    #클래스 몸체(변수와 메소드)\n",
    "    pass"
   ]
  },
  {
   "cell_type": "markdown",
   "id": "41b42f98",
   "metadata": {},
   "source": [
    "#### 객체 생성\n",
    "\n",
    "클래스를 인스턴스화하여 객체를 생성합니다."
   ]
  },
  {
   "cell_type": "code",
   "execution_count": 1,
   "id": "4b08d54b",
   "metadata": {},
   "outputs": [
    {
     "name": "stdout",
     "output_type": "stream",
     "text": [
      "홍길동\n"
     ]
    }
   ],
   "source": [
    "# 클래스 정의\n",
    "class Test:\n",
    "    name = \"홍길동\"  # 클래스 속성\n",
    "    \n",
    "# 객체 생성\n",
    "t = Test()\n",
    "\n",
    "#객체에서 클래스 속성 접근\n",
    "print(t.name)  # 출력: 홍길동"
   ]
  },
  {
   "cell_type": "markdown",
   "id": "bbb56ffb",
   "metadata": {},
   "source": [
    "#### 3. 클래스 속성(변수)과 메소드\n",
    "\n",
    "__init__() 메소드\n",
    "\n",
    "• 객체가 생성될 때 자동으로 실행되는 초기화 메소드입니다.\n",
    "\n",
    "• 인스턴스 변수(self.var)를 초기화할 때 사용되며, 초기화가 필요 없으면 생략 가능합니다.\n",
    "\n",
    "• 첫 번째 매개변수 self는 클래스 객체 자신을 나타냅니다."
   ]
  },
  {
   "cell_type": "markdown",
   "id": "e32b3473",
   "metadata": {},
   "source": [
    "#### 인스턴스 변수 vs 지역변수\n",
    "\n",
    "• 인스턴스 변수 : self.variable로 정의되며 클래스 전체에서 유효합니다. 클래스 내부의 모든 메소드에서 사용 가능합니다.\n",
    "\n",
    "• 지역변수: self.가 없는 변수로, 해당 메소드 내에서만 유효합니다."
   ]
  },
  {
   "cell_type": "code",
   "execution_count": 2,
   "id": "6ff28554",
   "metadata": {},
   "outputs": [],
   "source": [
    "#Car 클래스 예제\n",
    "class Car:\n",
    "    def __init__(self, color, speed):\n",
    "        self.color = color\n",
    "        self.speed = speed\n",
    "    def speedUp(self, value):\n",
    "        self.speed += value\n",
    "        return self.speed"
   ]
  },
  {
   "cell_type": "code",
   "execution_count": 3,
   "id": "40a66f89",
   "metadata": {},
   "outputs": [
    {
     "name": "stdout",
     "output_type": "stream",
     "text": [
      "색상:  Black 속도:  60\n",
      "새로운 속도:  70\n"
     ]
    }
   ],
   "source": [
    "# 객체 생성 및 사용\n",
    "mycar = Car(\"Black\", 60)\n",
    "print(\"색상: \",mycar.color, \"속도: \", mycar.speed)\n",
    "mycar.color = \"Red\"\n",
    "mycar.speedUp(10)\n",
    "print(\"새로운 속도: \" , mycar.speed)"
   ]
  },
  {
   "cell_type": "markdown",
   "id": "6570abee",
   "metadata": {},
   "source": [
    "#### 4.클래스 상속 및 다형성\n",
    "\n",
    "-상속(inheritance)\n",
    "\n",
    "• 기존 클래스의 속성과 메소드를 이어받아 새로운 기능을 추가하는 기법\n",
    "\n",
    "• class 하위클래스(상위클래스): 형식으로 구현합니다.\n",
    "\n",
    "• 부모 클래스 메소드는 super().method(args)또는 ParentClass.method(self, args)로 호출할 수 있음\n",
    "\n",
    "-메소드 오버라이딩(Method Overriding)\n",
    "\n",
    "• 자식 클래스에서 부모 클래스에 존재하는 메소드를 수정하여 다시 정의하는것\n",
    "\n",
    "-다형성(Polymorphism)\n",
    "\n",
    "• 전달된 인자에 따라 함수나 연산의 기능이 달라지는 것을 의미함\n",
    "ex. +연산자는 숫자에서는 덧셈, 문자열에서는 연결 기능을 수행"
   ]
  },
  {
   "cell_type": "markdown",
   "id": "c4fdc7f9",
   "metadata": {},
   "source": [
    "### 5. 고급 클래스 개념\n",
    "\n",
    "가시성(Visibility)\n",
    "\n",
    "파이썬에는 엄격한 접근 제어자가 없지만, 관례적으로 이름 앞에 밑줄을 사용하여 가시성을 표현합니다.\n",
    "• public_value : 밑줄이 없으며, 어디서든 접근 가능합니다. \n",
    "•\n",
    "•"
   ]
  }
 ],
 "metadata": {
  "kernelspec": {
   "display_name": "Python 3",
   "language": "python",
   "name": "python3"
  },
  "language_info": {
   "codemirror_mode": {
    "name": "ipython",
    "version": 3
   },
   "file_extension": ".py",
   "mimetype": "text/x-python",
   "name": "python",
   "nbconvert_exporter": "python",
   "pygments_lexer": "ipython3",
   "version": "3.13.7"
  }
 },
 "nbformat": 4,
 "nbformat_minor": 5
}
