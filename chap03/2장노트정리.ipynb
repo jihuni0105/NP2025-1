{
 "cells": [
  {
   "cell_type": "markdown",
   "id": "52d31ec1",
   "metadata": {},
   "source": [
    "### 2장 제어문"
   ]
  },
  {
   "cell_type": "markdown",
   "id": "6d13931c",
   "metadata": {},
   "source": [
    "### 조건문 \n",
    "#### if문은 조건이 참(True)일 경우에만 지정된 코드 블록을 실행합니다."
   ]
  },
  {
   "cell_type": "markdown",
   "id": "c1fafdab",
   "metadata": {},
   "source": [
    "if문 예제 1 : 성적 판별"
   ]
  },
  {
   "cell_type": "code",
   "execution_count": 4,
   "id": "7912f0b5",
   "metadata": {},
   "outputs": [],
   "source": [
    "score = int(input(\"정수 입력:\"))\n",
    "if score >= 90:\n",
    "    print(\"성적:A\")\n",
    "    print(\"장학금 수여\")"
   ]
  },
  {
   "cell_type": "markdown",
   "id": "be0c2b2a",
   "metadata": {},
   "source": [
    "if문 예제 2 : 복합 조건문"
   ]
  },
  {
   "cell_type": "code",
   "execution_count": 5,
   "id": "9f7912c4",
   "metadata": {},
   "outputs": [
    {
     "name": "stdout",
     "output_type": "stream",
     "text": [
      "당신의 나이는 18~22세 사이입니다.\n"
     ]
    }
   ],
   "source": [
    "age_0 = 22\n",
    "age_1 = 18\n",
    "age = int(input(\"your age?:\"))\n",
    "if age < age_0 and age >= age_1:\n",
    "\tprint(\"당신의 나이는 18~22세 사이입니다.\")"
   ]
  },
  {
   "cell_type": "markdown",
   "id": "a3a91aba",
   "metadata": {},
   "source": [
    "#### if-else문은 조건의 참(True)이면 블록1을 실행하고, 거짓(False)이면 else 다음의 블록2를 실행합니다."
   ]
  },
  {
   "cell_type": "markdown",
   "id": "d294513f",
   "metadata": {},
   "source": [
    "if-else문 예제 1 : 합격/불합격 판별"
   ]
  },
  {
   "cell_type": "code",
   "execution_count": 6,
   "id": "1d9e9963",
   "metadata": {},
   "outputs": [
    {
     "name": "stdout",
     "output_type": "stream",
     "text": [
      "fail\n"
     ]
    }
   ],
   "source": [
    "if score >= 90:\n",
    "    print(\"pass\")\n",
    "else:\n",
    "    print(\"fail\")"
   ]
  },
  {
   "cell_type": "markdown",
   "id": "bbf76048",
   "metadata": {},
   "source": [
    "if-else문은 한 줄로 간결하게 표현할 수 있습니다. "
   ]
  },
  {
   "cell_type": "code",
   "execution_count": 7,
   "id": "b38e1427",
   "metadata": {},
   "outputs": [
    {
     "name": "stdout",
     "output_type": "stream",
     "text": [
      "fail\n"
     ]
    }
   ],
   "source": [
    "res = 'pass' if score >= 90 else 'fail'\n",
    "print(res)"
   ]
  },
  {
   "cell_type": "markdown",
   "id": "a011595c",
   "metadata": {},
   "source": [
    "#### if-elif-else문은 여러개의 조건을 순차적으로 검사합니다. \n",
    "if 조건1이 참이면 블록1을 실행합니다. \n",
    "\n",
    "if 조건1이 거짓이고 elif 조건2가 참이면 블록2를 실행합니다.  \n",
    "\n",
    "모든 조건이 거짓이면 else 다음의 블록3이 실행됩니다.  "
   ]
  },
  {
   "cell_type": "code",
   "execution_count": null,
   "id": "50e0796e",
   "metadata": {},
   "outputs": [],
   "source": [
    "# if-elif-else문 기본구조\n",
    "if 조건1:\n",
    "    블록1\n",
    "elif 조건2:\n",
    "    블록2\n",
    "else:\n",
    "    블록3"
   ]
  },
  {
   "cell_type": "markdown",
   "id": "b64809c7",
   "metadata": {},
   "source": [
    "if-elif-else문 예제1"
   ]
  },
  {
   "cell_type": "code",
   "execution_count": 9,
   "id": "7052de99",
   "metadata": {},
   "outputs": [
    {
     "name": "stdout",
     "output_type": "stream",
     "text": [
      "positive\n"
     ]
    }
   ],
   "source": [
    "n = int(input(\"type int number:\"))\n",
    "if n > 0:\n",
    "    print(\"positive\")\n",
    "elif n < 0:\n",
    "    print(\"negative\")\n",
    "else:\n",
    "    print(\"0\")"
   ]
  },
  {
   "cell_type": "markdown",
   "id": "d5f1253b",
   "metadata": {},
   "source": [
    "if-elif-else문 예제 2 : 다중 elif문\n",
    " - 여러개의 elif를 사용하여 다양한 조건을 처리할 수 있습니다. if 또는 elif 조건 중 하나만 충족되면 나머지 조건은 무시됩니다. "
   ]
  },
  {
   "cell_type": "code",
   "execution_count": 10,
   "id": "7704d6de",
   "metadata": {},
   "outputs": [
    {
     "name": "stdout",
     "output_type": "stream",
     "text": [
      "Your admission cost is $5.\n"
     ]
    }
   ],
   "source": [
    "age = 12\n",
    "if age < 4:\n",
    "    price = 0\n",
    "elif age < 18:\n",
    "    price = 5\n",
    "elif age < 65:\n",
    "    price = 10\n",
    "else:\n",
    "    price = 5\n",
    "print(\"Your admission cost is $\" + str(price) + \".\")"
   ]
  },
  {
   "cell_type": "markdown",
   "id": "260ffb2d",
   "metadata": {},
   "source": [
    "#### 반복문은 특정 조건이 만족되거나 정해진 횟수만큼 코드 블록을 반복해서 실행하는 제어문입니다."
   ]
  },
  {
   "cell_type": "markdown",
   "id": "8c0fecf7",
   "metadata": {},
   "source": [
    "While문은 조건이 만족되는 종안 코드 블록을 계속해서 반복 실행합니다."
   ]
  },
  {
   "cell_type": "code",
   "execution_count": 1,
   "id": "fbd0695e",
   "metadata": {},
   "outputs": [
    {
     "name": "stdout",
     "output_type": "stream",
     "text": [
      "1~100까지의 합: 5050\n"
     ]
    }
   ],
   "source": [
    "# while문 예제 1 : 1부터 100까지의 합\n",
    "i = 1\n",
    "sum = 0\n",
    "while i <= 100:\n",
    "    sum += i\n",
    "    i += 1\n",
    "print(\"1~100까지의 합:\", sum)"
   ]
  },
  {
   "cell_type": "markdown",
   "id": "4490be6c",
   "metadata": {},
   "source": [
    "for문은 반복 객체(ex. 리스트, 튜플, 문자열)의 각 요소를 하나씩 변수에 저장하고 코드 블록을 실행하고, 반복 객체에 더 이상 요소가 없을 때까지 반복합니다."
   ]
  },
  {
   "cell_type": "code",
   "execution_count": 2,
   "id": "ff09e9a3",
   "metadata": {},
   "outputs": [
    {
     "name": "stdout",
     "output_type": "stream",
     "text": [
      "숫자 1\n",
      "숫자 2\n",
      "숫자 3\n",
      "숫자 1\n",
      "숫자 2\n",
      "숫자 3\n",
      "h\n",
      "e\n",
      "l\n",
      "l\n",
      "o\n"
     ]
    }
   ],
   "source": [
    "# forr문 에제 1\n",
    "for i in [1,2,3]:\n",
    "    print(\"숫자\", i)\n",
    "for i in (1,2,3):\n",
    "    print(\"숫자\", i)    \n",
    "for i in 'hello':\n",
    "    print(i)"
   ]
  },
  {
   "cell_type": "markdown",
   "id": "51ba58e9",
   "metadata": {},
   "source": [
    "  for range() 함수는 반복 객체를 생성하는 함수로, for문과 함께 자주 사용됩니다. \n",
    " - range(start, stop, step)는 start에서 시작하여 step만큼 증가시켜 stop 바로 앞 까지의 숫자를 생성합니다."
   ]
  },
  {
   "cell_type": "code",
   "execution_count": 3,
   "id": "b7195c84",
   "metadata": {},
   "outputs": [
    {
     "name": "stdout",
     "output_type": "stream",
     "text": [
      "sum: 5050\n"
     ]
    }
   ],
   "source": [
    "# for-range() 예제 1 \n",
    "sum = 0\n",
    "for i in range(1, 101, 1):\n",
    "    sum += i\n",
    "print(\"sum:\", sum)"
   ]
  },
  {
   "cell_type": "markdown",
   "id": "1cfeba20",
   "metadata": {},
   "source": [
    "#### 기타 제어문"
   ]
  },
  {
   "cell_type": "markdown",
   "id": "d0d6e25c",
   "metadata": {},
   "source": [
    "break문은 반복문을 즉시 종료하고 빠져나올 때 사용합니다."
   ]
  },
  {
   "cell_type": "code",
   "execution_count": 4,
   "id": "e10cad41",
   "metadata": {},
   "outputs": [
    {
     "name": "stdout",
     "output_type": "stream",
     "text": [
      "0.1\n"
     ]
    }
   ],
   "source": [
    "# break문 예제\n",
    "n = 10\n",
    "while n >= 10:\n",
    "    if n ==0:\n",
    "        break # n이 0이면 반복문 종료\n",
    "    inv = 1.0 /n \n",
    "    print(inv)\n",
    "    n = n -1"
   ]
  },
  {
   "cell_type": "markdown",
   "id": "2004f03f",
   "metadata": {},
   "source": [
    "continue문은 현재 반복을 건너뛰고 반복문의 시작 지점으로 돌아가 다음 반복을 계속 진행합니다. "
   ]
  },
  {
   "cell_type": "code",
   "execution_count": 5,
   "id": "f50752c3",
   "metadata": {},
   "outputs": [
    {
     "name": "stdout",
     "output_type": "stream",
     "text": [
      "n = 10, inv(n) = 0.10\n",
      "n = 9, inv(n) = 0.11\n",
      "n = 8, inv(n) = 0.12\n",
      "n = 7, inv(n) = 0.14\n",
      "n = 6, inv(n) = 0.17\n",
      "n = 5, inv(n) = 0.20\n",
      "n = 4, inv(n) = 0.25\n",
      "n = 3, inv(n) = 0.33\n",
      "n = 2, inv(n) = 0.50\n",
      "n = 1, inv(n) = 1.00\n",
      "n = -1, inv(n) = -1.00\n",
      "n = -2, inv(n) = -0.50\n",
      "n = -3, inv(n) = -0.33\n",
      "n = -4, inv(n) = -0.25\n",
      "n = -5, inv(n) = -0.20\n",
      "n = -6, inv(n) = -0.17\n",
      "n = -7, inv(n) = -0.14\n",
      "n = -8, inv(n) = -0.12\n",
      "n = -9, inv(n) = -0.11\n",
      "n = -10, inv(n) = -0.10\n"
     ]
    }
   ],
   "source": [
    "# continue문 예제\n",
    "n = 10\n",
    "while n >= -10:\n",
    "    if n == 0:\n",
    "        n = n -1\n",
    "        continue # n이 0이면 아래 코드를 건너뛰고 다음 반복으로 넘어갑니다.\n",
    "    inv = 1.0 / n\n",
    "    print(\"n = %d, inv(n) = %0.2f\"%(n, inv))\n",
    "    n = n -1"
   ]
  },
  {
   "cell_type": "markdown",
   "id": "8caf1b9e",
   "metadata": {},
   "source": [
    "match문은 Python 3.10부터 추가된 기능으로, C언어의 swith-case문과 유사합니다."
   ]
  },
  {
   "cell_type": "code",
   "execution_count": null,
   "id": "83247be3",
   "metadata": {},
   "outputs": [],
   "source": [
    "def handle_status(status):\n",
    "    match status:\n",
    "        case 200:\n",
    "            return \"성공\"\n",
    "        case 404:\n",
    "            return \"페이지를 찾을 수 없음\"\n",
    "        case 500:\n",
    "            return \"서버 오류\"\n",
    "        [span_5](start_span)case _:  # 와일드카드, 기본값(default)을 의미합니다.[span_5](end_span)\n",
    "            return \"알 수 없는 상태\"\n",
    "\n",
    "print(handle_status(200)) # \"성공\"\n",
    "print(handle_status(999)) # \"알 수 없는 상태\"\n"
   ]
  }
 ],
 "metadata": {
  "kernelspec": {
   "display_name": "Python 3",
   "language": "python",
   "name": "python3"
  },
  "language_info": {
   "codemirror_mode": {
    "name": "ipython",
    "version": 3
   },
   "file_extension": ".py",
   "mimetype": "text/x-python",
   "name": "python",
   "nbconvert_exporter": "python",
   "pygments_lexer": "ipython3",
   "version": "3.11.9"
  }
 },
 "nbformat": 4,
 "nbformat_minor": 5
}
