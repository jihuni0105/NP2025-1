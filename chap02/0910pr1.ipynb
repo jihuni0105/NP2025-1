{
 "cells": [
  {
   "cell_type": "markdown",
   "id": "623c772a",
   "metadata": {},
   "source": [
    "## 네트워크 프로그래밍 ch2 연습문제 1"
   ]
  },
  {
   "cell_type": "code",
   "execution_count": null,
   "id": "ec372d26",
   "metadata": {},
   "outputs": [],
   "source": [
    "#3명 이상 친구 이름 리스트를 작성하고 다음 내용을 프로그림하시오.\n",
    "\n",
    "# 3명 이상의 친구 이름 리스트 생성 \n",
    "friends = ['짱구', '철수', '유리']\n",
    "\n",
    "\n",
    "# insert()로 맨 앞에 새로운 친구 추가\n",
    "friends.insert(0, '맹구')\n",
    "print(friends)  # 출력 : ['맹구', '짱구', '철수', '유리']\n",
    "\n",
    "# insert()로 3번째 위치에 새로운 친구 추가\n",
    "friends.insert(2, '훈이')\n",
    "print(friends)  # 출력 : ['맹구', '짱구', '훈이', '철수', '유리']\n",
    "\n",
    "#append()로 마지막에 친구 추가\n",
    "friends.append('흰둥이')\n",
    "print(friends)  # 출력 : ['맹구', '짱구', '훈이', '철수', '유리', '흰둥이']"
   ]
  },
  {
   "cell_type": "code",
   "execution_count": null,
   "id": "218139ee",
   "metadata": {},
   "outputs": [],
   "source": [
    "# 리스트[1,2,3]에 대해 다음과 같은 처리를 하라.\n",
    "\n",
    "#두번째 요소를 17로 수정\n",
    "numbers = [1, 2, 3]\n",
    "numbers[1] = 17\n",
    "print(numbers)  # 출력 : [1, 17, 3]\n",
    "\n",
    "#리스트에 4,5,6을 추가\n",
    "numbers.extend([4, 5, 6])\n",
    "print(numbers)  # 출력 : [1, 17, 3, 4, 5, 6]\n",
    "\n",
    "#첫 번째 요소를 제거\n",
    "del numbers[0]\n",
    "print(numbers)  # 출력 : [17, 3, 4, 5, 6]\n",
    "\n",
    "#리스트를 요소 순서대로 배열하기\n",
    "numbers.sort() \n",
    "print(numbers)  # 출력 : [3, 4, 5, 6, 17]\n",
    "\n",
    "#인덱스 3에 25넣기\n",
    "numbers.insert(3, 25)\n",
    "print(numbers)  # 출력 : [3, 4, 5, 25, 6, 17]"
   ]
  },
  {
   "cell_type": "markdown",
   "id": "24cac5e0",
   "metadata": {},
   "source": [
    "연습문제 2"
   ]
  },
  {
   "cell_type": "code",
   "execution_count": null,
   "id": "b388fbca",
   "metadata": {},
   "outputs": [],
   "source": [
    "#for루프를 사용하여 다음과 같은 리스트를 생성하라.\n",
    "\n",
    "#0~49 까지의 수로 구성되는 리스트\n",
    "list1 = []\n",
    "for i in range(50):\n",
    "    list1.append(i)"
   ]
  }
 ],
 "metadata": {
  "kernelspec": {
   "display_name": "Python 3",
   "language": "python",
   "name": "python3"
  },
  "language_info": {
   "name": "python",
   "version": "3.13.7"
  }
 },
 "nbformat": 4,
 "nbformat_minor": 5
}
