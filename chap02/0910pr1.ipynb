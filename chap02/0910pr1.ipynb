{
 "cells": [
  {
   "cell_type": "markdown",
   "id": "623c772a",
   "metadata": {},
   "source": [
    "## 네트워크 프로그래밍 ch2 연습문제 1"
   ]
  },
  {
   "cell_type": "code",
   "execution_count": null,
   "id": "ec372d26",
   "metadata": {},
   "outputs": [],
   "source": [
    "# 3명 이상의 친구 이름 리스트 생성 \n",
    "friends = ['짱구', '철수', '유리']\n",
    "\n",
    "\n",
    "# insert()로 맨 앞에 새로운 친구 추가\n",
    "friends.insert(0, '맹구')\n",
    "print(friends)  # 출력 : ['맹구', '짱구', '철수', '유리']\n",
    "\n",
    "# insert()로 3번째 위치에 새로운 친구 추가\n",
    "friends.insert(2, '훈이')\n",
    "print(friends)  # 출력 : ['맹구', '짱구', '훈이', '철수', '유리']\n",
    "\n",
    "#append()로 마지막에 친구 추가\n",
    "friends.append('흰둥이')\n",
    "print(friends)  # 출력 : ['맹구', '짱구', '훈이', '철수', '유리', '흰둥이']"
   ]
  }
 ],
 "metadata": {
  "kernelspec": {
   "display_name": "Python 3",
   "language": "python",
   "name": "python3"
  },
  "language_info": {
   "name": "python",
   "version": "3.13.7"
  }
 },
 "nbformat": 4,
 "nbformat_minor": 5
}
