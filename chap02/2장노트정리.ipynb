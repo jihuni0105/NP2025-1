{
 "cells": [
  {
   "cell_type": "markdown",
   "id": "52d31ec1",
   "metadata": {},
   "source": [
    "### 2장 제어문"
   ]
  },
  {
   "cell_type": "markdown",
   "id": "6d13931c",
   "metadata": {},
   "source": [
    "### -조건문 \n",
    "#### if문은 조건이 참(True)일 경우에만 지정된 코드 블록을 실행합니다."
   ]
  },
  {
   "cell_type": "markdown",
   "id": "c1fafdab",
   "metadata": {},
   "source": [
    "if문 예제 1 : 성적 판별"
   ]
  },
  {
   "cell_type": "code",
   "execution_count": 4,
   "id": "7912f0b5",
   "metadata": {},
   "outputs": [],
   "source": [
    "score = int(input(\"정수 입력:\"))\n",
    "if score >= 90:\n",
    "    print(\"성적:A\")\n",
    "    print(\"장학금 수여\")"
   ]
  },
  {
   "cell_type": "markdown",
   "id": "be0c2b2a",
   "metadata": {},
   "source": [
    "if문 예제 2 : 복합 조건문"
   ]
  },
  {
   "cell_type": "code",
   "execution_count": 5,
   "id": "9f7912c4",
   "metadata": {},
   "outputs": [
    {
     "name": "stdout",
     "output_type": "stream",
     "text": [
      "당신의 나이는 18~22세 사이입니다.\n"
     ]
    }
   ],
   "source": [
    "age_0 = 22\n",
    "age_1 = 18\n",
    "age = int(input(\"your age?:\"))\n",
    "if age < age_0 and age >= age_1:\n",
    "\tprint(\"당신의 나이는 18~22세 사이입니다.\")"
   ]
  },
  {
   "cell_type": "markdown",
   "id": "a3a91aba",
   "metadata": {},
   "source": [
    "#### if-else문은 조건의 참(True)이면 블록1을 실행하고, 거짓(False)이면 else 다음의 블록2를 실행합니다."
   ]
  },
  {
   "cell_type": "markdown",
   "id": "d294513f",
   "metadata": {},
   "source": [
    "if-else문 예제 1 : 합격/불합격 판별"
   ]
  },
  {
   "cell_type": "code",
   "execution_count": 6,
   "id": "1d9e9963",
   "metadata": {},
   "outputs": [
    {
     "name": "stdout",
     "output_type": "stream",
     "text": [
      "fail\n"
     ]
    }
   ],
   "source": [
    "if score >= 90:\n",
    "    print(\"pass\")\n",
    "else:\n",
    "    print(\"fail\")"
   ]
  },
  {
   "cell_type": "markdown",
   "id": "bbf76048",
   "metadata": {},
   "source": [
    "if-else문은 한 줄로 간결하게 표현할 수 있습니다. "
   ]
  },
  {
   "cell_type": "code",
   "execution_count": 7,
   "id": "b38e1427",
   "metadata": {},
   "outputs": [
    {
     "name": "stdout",
     "output_type": "stream",
     "text": [
      "fail\n"
     ]
    }
   ],
   "source": [
    "res = 'pass' if score >= 90 else 'fail'\n",
    "print(res)"
   ]
  },
  {
   "cell_type": "markdown",
   "id": "a011595c",
   "metadata": {},
   "source": [
    "#### if-elif-else문은 여러개ㅐ의 조건을 순차적으로 검사합니다. \n",
    "if 조건1이 참이면 블록1을 실행합니다. \n",
    "\n",
    "if 조건1이 거짓이고 elif 조건2가 참이면 블록2를 실행합니다.  \n",
    "\n",
    "모든 조건이 거짓이면 else 다음의 블록3이 실행됩니다.  "
   ]
  },
  {
   "cell_type": "code",
   "execution_count": null,
   "id": "50e0796e",
   "metadata": {},
   "outputs": [],
   "source": [
    "# if-elif-else문 기본구조\n",
    "if 조건1:\n",
    "    블록1\n",
    "elif 조건2:\n",
    "    블록2\n",
    "else:\n",
    "    블록3"
   ]
  },
  {
   "cell_type": "markdown",
   "id": "b64809c7",
   "metadata": {},
   "source": [
    "if-elif-else문 예제1"
   ]
  },
  {
   "cell_type": "code",
   "execution_count": 9,
   "id": "7052de99",
   "metadata": {},
   "outputs": [
    {
     "name": "stdout",
     "output_type": "stream",
     "text": [
      "positive\n"
     ]
    }
   ],
   "source": [
    "n = int(input(\"type int number:\"))\n",
    "if n > 0:\n",
    "    print(\"positive\")\n",
    "elif n < 0:\n",
    "    print(\"negative\")\n",
    "else:\n",
    "    print(\"0\")"
   ]
  },
  {
   "cell_type": "markdown",
   "id": "d5f1253b",
   "metadata": {},
   "source": [
    "if-elif-else문 예제 2 : 다중 elif문\n",
    " - 여러개의 elif를 사용하여 다양한 조건을 처리할 수 있습니다. if 또는 elif 조건 중 하나만 충족되면 나머지 조건은 무시됩니다. "
   ]
  },
  {
   "cell_type": "code",
   "execution_count": 10,
   "id": "7704d6de",
   "metadata": {},
   "outputs": [
    {
     "name": "stdout",
     "output_type": "stream",
     "text": [
      "Your admission cost is $5.\n"
     ]
    }
   ],
   "source": [
    "age = 12\n",
    "if age < 4:\n",
    "    price = 0\n",
    "elif age < 18:\n",
    "    price = 5\n",
    "elif age < 65:\n",
    "    price = 10\n",
    "else:\n",
    "    price = 5\n",
    "print(\"Your admission cost is $\" + str(price) + \".\")"
   ]
  }
 ],
 "metadata": {
  "kernelspec": {
   "display_name": "Python 3",
   "language": "python",
   "name": "python3"
  },
  "language_info": {
   "codemirror_mode": {
    "name": "ipython",
    "version": 3
   },
   "file_extension": ".py",
   "mimetype": "text/x-python",
   "name": "python",
   "nbconvert_exporter": "python",
   "pygments_lexer": "ipython3",
   "version": "3.11.9"
  }
 },
 "nbformat": 4,
 "nbformat_minor": 5
}
